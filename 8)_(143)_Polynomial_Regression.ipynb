{
  "nbformat": 4,
  "nbformat_minor": 0,
  "metadata": {
    "colab": {
      "name": "8) (143) Polynomial Regression.ipynb",
      "provenance": []
    },
    "kernelspec": {
      "name": "python3",
      "display_name": "Python 3"
    }
  },
  "cells": [
    {
      "cell_type": "code",
      "metadata": {
        "id": "_mQRQtKV2b7-",
        "colab_type": "code",
        "colab": {
          "base_uri": "https://localhost:8080/",
          "height": 82
        },
        "outputId": "5f9f80d0-e74b-438e-c932-ed88188303f9"
      },
      "source": [
        "import numpy as np\n",
        "import matplotlib.pyplot as plt\n",
        "from keras.models import Sequential\n",
        "from keras.layers import Dense\n",
        "from keras.optimizers import Adam"
      ],
      "execution_count": 1,
      "outputs": [
        {
          "output_type": "stream",
          "text": [
            "Using TensorFlow backend.\n"
          ],
          "name": "stderr"
        },
        {
          "output_type": "display_data",
          "data": {
            "text/html": [
              "<p style=\"color: red;\">\n",
              "The default version of TensorFlow in Colab will soon switch to TensorFlow 2.x.<br>\n",
              "We recommend you <a href=\"https://www.tensorflow.org/guide/migrate\" target=\"_blank\">upgrade</a> now \n",
              "or ensure your notebook will continue to use TensorFlow 1.x via the <code>%tensorflow_version 1.x</code> magic:\n",
              "<a href=\"https://colab.research.google.com/notebooks/tensorflow_version.ipynb\" target=\"_blank\">more info</a>.</p>\n"
            ],
            "text/plain": [
              "<IPython.core.display.HTML object>"
            ]
          },
          "metadata": {
            "tags": []
          }
        }
      ]
    },
    {
      "cell_type": "code",
      "metadata": {
        "id": "-JlUbEyY2qPv",
        "colab_type": "code",
        "colab": {}
      },
      "source": [
        "np.random.seed(0)\n",
        "points = 500\n",
        "X = np.linspace(-3, 3, points)\n",
        "y = np.sin(X) + np.random.uniform(-0.5, 0.5, points)"
      ],
      "execution_count": 0,
      "outputs": []
    },
    {
      "cell_type": "code",
      "metadata": {
        "id": "ncxHz_Xa2tfq",
        "colab_type": "code",
        "colab": {
          "base_uri": "https://localhost:8080/",
          "height": 124
        },
        "outputId": "4d327da1-111d-4831-c7c3-0862cd3e4642"
      },
      "source": [
        "model = Sequential()\n",
        "model.add(Dense(50, activation='sigmoid', input_dim=1))\n",
        "model.add(Dense(30, activation='sigmoid'))\n",
        "model.add(Dense(1))"
      ],
      "execution_count": 3,
      "outputs": [
        {
          "output_type": "stream",
          "text": [
            "WARNING:tensorflow:From /usr/local/lib/python3.6/dist-packages/keras/backend/tensorflow_backend.py:66: The name tf.get_default_graph is deprecated. Please use tf.compat.v1.get_default_graph instead.\n",
            "\n",
            "WARNING:tensorflow:From /usr/local/lib/python3.6/dist-packages/keras/backend/tensorflow_backend.py:541: The name tf.placeholder is deprecated. Please use tf.compat.v1.placeholder instead.\n",
            "\n",
            "WARNING:tensorflow:From /usr/local/lib/python3.6/dist-packages/keras/backend/tensorflow_backend.py:4432: The name tf.random_uniform is deprecated. Please use tf.random.uniform instead.\n",
            "\n"
          ],
          "name": "stdout"
        }
      ]
    },
    {
      "cell_type": "code",
      "metadata": {
        "id": "eBQ-k87c2vPV",
        "colab_type": "code",
        "colab": {
          "base_uri": "https://localhost:8080/",
          "height": 1000
        },
        "outputId": "a0309d17-c930-40e3-c7b2-ac55c403ebf6"
      },
      "source": [
        "adam = Adam(lr=0.01)\n",
        "model.compile(loss='mse', optimizer=adam)\n",
        "model.fit(X, y, epochs=50)"
      ],
      "execution_count": 4,
      "outputs": [
        {
          "output_type": "stream",
          "text": [
            "WARNING:tensorflow:From /usr/local/lib/python3.6/dist-packages/keras/optimizers.py:793: The name tf.train.Optimizer is deprecated. Please use tf.compat.v1.train.Optimizer instead.\n",
            "\n",
            "WARNING:tensorflow:From /usr/local/lib/python3.6/dist-packages/keras/backend/tensorflow_backend.py:1033: The name tf.assign_add is deprecated. Please use tf.compat.v1.assign_add instead.\n",
            "\n",
            "WARNING:tensorflow:From /usr/local/lib/python3.6/dist-packages/keras/backend/tensorflow_backend.py:1020: The name tf.assign is deprecated. Please use tf.compat.v1.assign instead.\n",
            "\n",
            "WARNING:tensorflow:From /usr/local/lib/python3.6/dist-packages/keras/backend/tensorflow_backend.py:3005: The name tf.Session is deprecated. Please use tf.compat.v1.Session instead.\n",
            "\n",
            "Epoch 1/50\n",
            "WARNING:tensorflow:From /usr/local/lib/python3.6/dist-packages/keras/backend/tensorflow_backend.py:190: The name tf.get_default_session is deprecated. Please use tf.compat.v1.get_default_session instead.\n",
            "\n",
            "WARNING:tensorflow:From /usr/local/lib/python3.6/dist-packages/keras/backend/tensorflow_backend.py:197: The name tf.ConfigProto is deprecated. Please use tf.compat.v1.ConfigProto instead.\n",
            "\n",
            "WARNING:tensorflow:From /usr/local/lib/python3.6/dist-packages/keras/backend/tensorflow_backend.py:207: The name tf.global_variables is deprecated. Please use tf.compat.v1.global_variables instead.\n",
            "\n",
            "WARNING:tensorflow:From /usr/local/lib/python3.6/dist-packages/keras/backend/tensorflow_backend.py:216: The name tf.is_variable_initialized is deprecated. Please use tf.compat.v1.is_variable_initialized instead.\n",
            "\n",
            "WARNING:tensorflow:From /usr/local/lib/python3.6/dist-packages/keras/backend/tensorflow_backend.py:223: The name tf.variables_initializer is deprecated. Please use tf.compat.v1.variables_initializer instead.\n",
            "\n",
            "500/500 [==============================] - 1s 1ms/step - loss: 0.4463\n",
            "Epoch 2/50\n",
            "500/500 [==============================] - 0s 45us/step - loss: 0.2369\n",
            "Epoch 3/50\n",
            "500/500 [==============================] - 0s 47us/step - loss: 0.2664\n",
            "Epoch 4/50\n",
            "500/500 [==============================] - 0s 43us/step - loss: 0.2271\n",
            "Epoch 5/50\n",
            "500/500 [==============================] - 0s 41us/step - loss: 0.2285\n",
            "Epoch 6/50\n",
            "500/500 [==============================] - 0s 40us/step - loss: 0.2268\n",
            "Epoch 7/50\n",
            "500/500 [==============================] - 0s 49us/step - loss: 0.2203\n",
            "Epoch 8/50\n",
            "500/500 [==============================] - 0s 47us/step - loss: 0.2225\n",
            "Epoch 9/50\n",
            "500/500 [==============================] - 0s 48us/step - loss: 0.2086\n",
            "Epoch 10/50\n",
            "500/500 [==============================] - 0s 50us/step - loss: 0.1928\n",
            "Epoch 11/50\n",
            "500/500 [==============================] - 0s 42us/step - loss: 0.1929\n",
            "Epoch 12/50\n",
            "500/500 [==============================] - 0s 43us/step - loss: 0.1798\n",
            "Epoch 13/50\n",
            "500/500 [==============================] - 0s 42us/step - loss: 0.1702\n",
            "Epoch 14/50\n",
            "500/500 [==============================] - 0s 39us/step - loss: 0.1595\n",
            "Epoch 15/50\n",
            "500/500 [==============================] - 0s 39us/step - loss: 0.1572\n",
            "Epoch 16/50\n",
            "500/500 [==============================] - 0s 45us/step - loss: 0.1462\n",
            "Epoch 17/50\n",
            "500/500 [==============================] - 0s 37us/step - loss: 0.1397\n",
            "Epoch 18/50\n",
            "500/500 [==============================] - 0s 39us/step - loss: 0.1321\n",
            "Epoch 19/50\n",
            "500/500 [==============================] - 0s 44us/step - loss: 0.1229\n",
            "Epoch 20/50\n",
            "500/500 [==============================] - 0s 53us/step - loss: 0.1277\n",
            "Epoch 21/50\n",
            "500/500 [==============================] - 0s 59us/step - loss: 0.1183\n",
            "Epoch 22/50\n",
            "500/500 [==============================] - 0s 45us/step - loss: 0.1170\n",
            "Epoch 23/50\n",
            "500/500 [==============================] - 0s 50us/step - loss: 0.1185\n",
            "Epoch 24/50\n",
            "500/500 [==============================] - 0s 44us/step - loss: 0.1176\n",
            "Epoch 25/50\n",
            "500/500 [==============================] - 0s 44us/step - loss: 0.1113\n",
            "Epoch 26/50\n",
            "500/500 [==============================] - 0s 40us/step - loss: 0.1079\n",
            "Epoch 27/50\n",
            "500/500 [==============================] - 0s 47us/step - loss: 0.1111\n",
            "Epoch 28/50\n",
            "500/500 [==============================] - 0s 38us/step - loss: 0.1241\n",
            "Epoch 29/50\n",
            "500/500 [==============================] - 0s 41us/step - loss: 0.1234\n",
            "Epoch 30/50\n",
            "500/500 [==============================] - 0s 42us/step - loss: 0.1127\n",
            "Epoch 31/50\n",
            "500/500 [==============================] - 0s 44us/step - loss: 0.1075\n",
            "Epoch 32/50\n",
            "500/500 [==============================] - 0s 42us/step - loss: 0.1145\n",
            "Epoch 33/50\n",
            "500/500 [==============================] - 0s 41us/step - loss: 0.1081\n",
            "Epoch 34/50\n",
            "500/500 [==============================] - 0s 45us/step - loss: 0.1108\n",
            "Epoch 35/50\n",
            "500/500 [==============================] - 0s 43us/step - loss: 0.1045\n",
            "Epoch 36/50\n",
            "500/500 [==============================] - 0s 41us/step - loss: 0.1089\n",
            "Epoch 37/50\n",
            "500/500 [==============================] - 0s 39us/step - loss: 0.1066\n",
            "Epoch 38/50\n",
            "500/500 [==============================] - 0s 41us/step - loss: 0.1053\n",
            "Epoch 39/50\n",
            "500/500 [==============================] - 0s 45us/step - loss: 0.1049\n",
            "Epoch 40/50\n",
            "500/500 [==============================] - 0s 38us/step - loss: 0.1044\n",
            "Epoch 41/50\n",
            "500/500 [==============================] - 0s 41us/step - loss: 0.1153\n",
            "Epoch 42/50\n",
            "500/500 [==============================] - 0s 41us/step - loss: 0.1032\n",
            "Epoch 43/50\n",
            "500/500 [==============================] - 0s 50us/step - loss: 0.1029\n",
            "Epoch 44/50\n",
            "500/500 [==============================] - 0s 42us/step - loss: 0.1055\n",
            "Epoch 45/50\n",
            "500/500 [==============================] - 0s 49us/step - loss: 0.1017\n",
            "Epoch 46/50\n",
            "500/500 [==============================] - 0s 43us/step - loss: 0.1017\n",
            "Epoch 47/50\n",
            "500/500 [==============================] - 0s 40us/step - loss: 0.1125\n",
            "Epoch 48/50\n",
            "500/500 [==============================] - 0s 39us/step - loss: 0.1088\n",
            "Epoch 49/50\n",
            "500/500 [==============================] - 0s 39us/step - loss: 0.1047\n",
            "Epoch 50/50\n",
            "500/500 [==============================] - 0s 44us/step - loss: 0.1081\n"
          ],
          "name": "stdout"
        },
        {
          "output_type": "execute_result",
          "data": {
            "text/plain": [
              "<keras.callbacks.History at 0x7f91de9989e8>"
            ]
          },
          "metadata": {
            "tags": []
          },
          "execution_count": 4
        }
      ]
    },
    {
      "cell_type": "code",
      "metadata": {
        "id": "fFn_MJkE2yMR",
        "colab_type": "code",
        "colab": {
          "base_uri": "https://localhost:8080/",
          "height": 265
        },
        "outputId": "f0c3ba4d-7884-460a-a6a8-585b4001f1fe"
      },
      "source": [
        "predictions = model.predict(X)\n",
        "plt.scatter(X, y)\n",
        "plt.plot(X, predictions, 'ro')\n",
        "plt.show()"
      ],
      "execution_count": 5,
      "outputs": [
        {
          "output_type": "display_data",
          "data": {
            "image/png": "[encoded data removed]",
            "text/plain": [
              "<Figure size 432x288 with 1 Axes>"
            ]
          },
          "metadata": {
            "tags": []
          }
        }
      ]
    },
    {
      "cell_type": "code",
      "metadata": {
        "id": "kSqsv590247J",
        "colab_type": "code",
        "colab": {}
      },
      "source": [
        ""
      ],
      "execution_count": 0,
      "outputs": []
    }
  ]
}